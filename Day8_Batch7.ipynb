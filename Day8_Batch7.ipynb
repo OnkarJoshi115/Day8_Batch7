{
 "cells": [
  {
   "cell_type": "markdown",
   "metadata": {},
   "source": [
    "# Question 1"
   ]
  },
  {
   "cell_type": "code",
   "execution_count": 1,
   "metadata": {},
   "outputs": [],
   "source": [
    "def inputDecoFun(argFun):\n",
    "    \n",
    "    def newFun():\n",
    "        num = int(input(\"Enter any Number - \"))\n",
    "        argFun(num)\n",
    "    return newFun"
   ]
  },
  {
   "cell_type": "code",
   "execution_count": 2,
   "metadata": {},
   "outputs": [],
   "source": [
    "@inputDecoFun\n",
    "def fibonacciSe(n):\n",
    "    oldnumber = 0\n",
    "    previousNumber = 1\n",
    "    print('1')\n",
    "    for i in range(0,n):\n",
    "        newNumber = previousNumber +oldnumber\n",
    "        oldnumber = previousNumber\n",
    "        previousNumber = newNumber\n",
    "        print(newNumber)"
   ]
  },
  {
   "cell_type": "code",
   "execution_count": 3,
   "metadata": {},
   "outputs": [
    {
     "name": "stdout",
     "output_type": "stream",
     "text": [
      "Enter any Number - 15\n",
      "1\n",
      "1\n",
      "2\n",
      "3\n",
      "5\n",
      "8\n",
      "13\n",
      "21\n",
      "34\n",
      "55\n",
      "89\n",
      "144\n",
      "233\n",
      "377\n",
      "610\n",
      "987\n"
     ]
    }
   ],
   "source": [
    "\n",
    "fibonacciSe()"
   ]
  },
  {
   "cell_type": "markdown",
   "metadata": {},
   "source": [
    "# Question 2"
   ]
  },
  {
   "cell_type": "code",
   "execution_count": 8,
   "metadata": {},
   "outputs": [
    {
     "name": "stdout",
     "output_type": "stream",
     "text": [
      "not writable\n",
      "HEY I WILL EXECUTE WHT so ever it may be \n"
     ]
    }
   ],
   "source": [
    "try :\n",
    "    file = open(\"Onkar.txt\",\"r\")\n",
    "    file.write(\"HI\")\n",
    "    file.close()\n",
    "    print(\"Success\")\n",
    "except Exception as e:\n",
    "    print(e)\n",
    "finally:\n",
    "    print(\"HEY I WILL EXECUTE WHT so ever it may be \")"
   ]
  },
  {
   "cell_type": "code",
   "execution_count": null,
   "metadata": {},
   "outputs": [],
   "source": []
  }
 ],
 "metadata": {
  "kernelspec": {
   "display_name": "Python 3",
   "language": "python",
   "name": "python3"
  },
  "language_info": {
   "codemirror_mode": {
    "name": "ipython",
    "version": 3
   },
   "file_extension": ".py",
   "mimetype": "text/x-python",
   "name": "python",
   "nbconvert_exporter": "python",
   "pygments_lexer": "ipython3",
   "version": "3.8.3"
  }
 },
 "nbformat": 4,
 "nbformat_minor": 4
}
